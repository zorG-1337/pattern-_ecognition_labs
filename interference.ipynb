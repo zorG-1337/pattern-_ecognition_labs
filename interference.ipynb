{
 "cells": [
  {
   "cell_type": "code",
   "execution_count": 1,
   "metadata": {},
   "outputs": [
    {
     "name": "stdout",
     "output_type": "stream",
     "text": [
      "YOLO11n summary (fused): 238 layers, 2,582,542 parameters, 0 gradients, 6.3 GFLOPs\n"
     ]
    }
   ],
   "source": [
    "import cv2\n",
    "from ultralytics import YOLO\n",
    "import random\n",
    "\n",
    "\n",
    "def process_video_with_tracking(model, input_video_path, show_video=True, save_video=False, output_video_path=\"output_video.mp4\"):\n",
    "    # Open the input video file\n",
    "    cap = cv2.VideoCapture(input_video_path)\n",
    "\n",
    "    if not cap.isOpened():\n",
    "        raise Exception(\"Error: Could not open video file.\")\n",
    "\n",
    "    # Get input video frame rate and dimensions\n",
    "    fps = int(cap.get(cv2.CAP_PROP_FPS))\n",
    "    frame_width = int(cap.get(cv2.CAP_PROP_FRAME_WIDTH))\n",
    "    frame_height = int(cap.get(cv2.CAP_PROP_FRAME_HEIGHT))\n",
    "\n",
    "    # Define the output video writer\n",
    "    if save_video:\n",
    "        fourcc = cv2.VideoWriter_fourcc(*'mp4v')\n",
    "        out = cv2.VideoWriter(output_video_path, fourcc, fps, (frame_width, frame_height))\n",
    "\n",
    "    while True:\n",
    "        ret, frame = cap.read()\n",
    "        if not ret:\n",
    "            break\n",
    "        results = model.track(frame, iou=0.4, conf=0.5, persist=True, imgsz=608, verbose=False, tracker=\"botsort.yaml\")\n",
    "\n",
    "        if results[0].boxes.id != None: # this will ensure that id is not None -> exist tracks\n",
    "            boxes = results[0].boxes.xyxy.cpu().numpy().astype(int)\n",
    "            ids = results[0].boxes.id.cpu().numpy().astype(int)\n",
    "\n",
    "            for box, id in zip(boxes, ids):\n",
    "                # Generate a random color for each object based on its ID\n",
    "                random.seed(int(id))\n",
    "                color = (random.randint(0, 255), random.randint(0, 255), random.randint(0, 255))\n",
    "                \n",
    "                cv2.rectangle(frame, (box[0], box[1]), (box[2], box[3],), color, 2)\n",
    "                cv2.putText(\n",
    "                    frame,\n",
    "                    f\"Id {id}\",\n",
    "                    (box[0], box[1]),\n",
    "                    cv2.FONT_HERSHEY_SIMPLEX,\n",
    "                    0.5,\n",
    "                    (0, 255, 255),\n",
    "                    2,\n",
    "                )\n",
    "        \n",
    "        if save_video:\n",
    "            out.write(frame)\n",
    "\n",
    "        if show_video:\n",
    "            frame = cv2.resize(frame, (0, 0), fx=0.75, fy=0.75)\n",
    "            cv2.imshow(\"frame\", frame)\n",
    "\n",
    "        if cv2.waitKey(1) & 0xFF == ord(\"q\"):\n",
    "            break\n",
    "\n",
    "    # Release the input video capture and output video writer\n",
    "    cap.release()\n",
    "    if save_video:\n",
    "        out.release()\n",
    "\n",
    "    # Close all OpenCV windows\n",
    "    cv2.destroyAllWindows()\n",
    "\n",
    "# Example usage:\n",
    "model = YOLO('runs/detect/train8/weights/best.pt')\n",
    "model.fuse()\n",
    "process_video_with_tracking(model, \"test.mp4\", show_video=True, save_video=False, output_video_path=\"output_video.mp4\")\n",
    "\n"
   ]
  }
 ],
 "metadata": {
  "kernelspec": {
   "display_name": "Python 3",
   "language": "python",
   "name": "python3"
  },
  "language_info": {
   "codemirror_mode": {
    "name": "ipython",
    "version": 3
   },
   "file_extension": ".py",
   "mimetype": "text/x-python",
   "name": "python",
   "nbconvert_exporter": "python",
   "pygments_lexer": "ipython3",
   "version": "3.12.4"
  }
 },
 "nbformat": 4,
 "nbformat_minor": 2
}
